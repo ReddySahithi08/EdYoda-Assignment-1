{
 "cells": [
  {
   "cell_type": "code",
   "execution_count": 3,
   "id": "0dd29716",
   "metadata": {},
   "outputs": [
    {
     "name": "stdout",
     "output_type": "stream",
     "text": [
      "1,23,4,6,7,8,9\n",
      "Number of even numbers :  3\n",
      "Number of even numbers :  4\n"
     ]
    }
   ],
   "source": [
    "s = input()\n",
    "list=s.split(\",\")\n",
    "Count1=0\n",
    "Count2=0\n",
    "for i in list:\n",
    "    if(int(i)%2==0):\n",
    "        Count1 += 1\n",
    "    else:\n",
    "        Count2 += 1\n",
    "print(\"Number of even numbers : \",Count1)\n",
    "print(\"Number of even numbers : \",Count2)"
   ]
  },
  {
   "cell_type": "code",
   "execution_count": null,
   "id": "5624defa",
   "metadata": {},
   "outputs": [],
   "source": []
  },
  {
   "cell_type": "code",
   "execution_count": null,
   "id": "fe5ac6c8",
   "metadata": {},
   "outputs": [],
   "source": [
    "\n",
    "    "
   ]
  },
  {
   "cell_type": "code",
   "execution_count": null,
   "id": "801a5b39",
   "metadata": {},
   "outputs": [],
   "source": []
  }
 ],
 "metadata": {
  "kernelspec": {
   "display_name": "Python 3 (ipykernel)",
   "language": "python",
   "name": "python3"
  },
  "language_info": {
   "codemirror_mode": {
    "name": "ipython",
    "version": 3
   },
   "file_extension": ".py",
   "mimetype": "text/x-python",
   "name": "python",
   "nbconvert_exporter": "python",
   "pygments_lexer": "ipython3",
   "version": "3.10.1"
  }
 },
 "nbformat": 4,
 "nbformat_minor": 5
}
